{
 "cells": [
  {
   "cell_type": "markdown",
   "metadata": {
    "deletable": true,
    "editable": true
   },
   "source": [
    "# Talks markdown generator for academicpages\n",
    "\n",
    "Takes a TSV of talks with metadata and converts them for use with [academicpages.github.io](academicpages.github.io). This is an interactive Jupyter notebook ([see more info here](http://jupyter-notebook-beginner-guide.readthedocs.io/en/latest/what_is_jupyter.html)). The core python code is also in `talks.py`. Run either from the `markdown_generator` folder after replacing `talks.tsv` with one containing your data.\n",
    "\n",
    "TODO: Make this work with BibTex and other databases, rather than Stuart's non-standard TSV format and citation style."
   ]
  },
  {
   "cell_type": "code",
   "execution_count": 1,
   "metadata": {
    "collapsed": false,
    "deletable": true,
    "editable": true
   },
   "outputs": [],
   "source": [
    "import pandas as pd\n",
    "import os"
   ]
  },
  {
   "cell_type": "markdown",
   "metadata": {},
   "source": [
    "## Data format\n",
    "\n",
    "The TSV needs to have the following columns: title, type, url_slug, venue, date, location, talk_url, description, with a header at the top. Many of these fields can be blank, but the columns must be in the TSV.\n",
    "\n",
    "- Fields that cannot be blank: `title`, `url_slug`, `date`. All else can be blank. `type` defaults to \"Talk\" \n",
    "- `date` must be formatted as YYYY-MM-DD.\n",
    "- `url_slug` will be the descriptive part of the .md file and the permalink URL for the page about the paper. \n",
    "    - The .md file will be `YYYY-MM-DD-[url_slug].md` and the permalink will be `https://[yourdomain]/talks/YYYY-MM-DD-[url_slug]`\n",
    "    - The combination of `url_slug` and `date` must be unique, as it will be the basis for your filenames\n",
    "\n",
    "This is how the raw file looks (it doesn't look pretty, use a spreadsheet or other program to edit and create)."
   ]
  },
  {
   "cell_type": "code",
   "execution_count": 2,
   "metadata": {
    "collapsed": false
   },
   "outputs": [
    {
     "name": "stdout",
     "output_type": "stream",
     "text": [
      "title\ttype\turl_slug\tvenue\tdate\tlocation\ttalk_url\tdescription\n",
      "Could olfactory receptors modulate prostate cancer metastasis?\tPoster presentation\tdreams\tJohns Hopkins University\t2018-04-27\tBaltimore, MD\t\tPoster presentation given at the [JHU  Day of Undergraduate Research in Engineering, the Arts & Humanities, Medicine and the Sciences (DREAMS) conference](https://hour.jhu.edu/present/dreams/), as part of Steven An's group in the Environmental Engineering department in the Johns Hopkins Bloomberg School of Public Health.\n",
      "Bayesian Clustering of n-gons via a Double Dirichlet Mixture Model\tTalk\ttorus\tDallas College Brookhaven Campus\t2023-02-18\tDallas, TX\t\tTalk given at the [15th Annual Texas Oklahoma Regional Undergraduate Symposium (TORUS)](https://www.dallascollege.edu/cd/schools/stem/events/pages/torus-conference.aspx) conference, as part of Qiwei Li's group in the Mathematical Sciences department at the University of Texas at Dallas.\n",
      "Generating Microfluidic Gradients for the Study of an Olfactory Receptor involved in Prostate Cancer Metastasis\tTalk\turs\tJohns Hopkins University\t2019-10-29\tBaltimore, MD\t\tTalk given at the [JHU Undergraduate Research Symposium](https://hopkinsurs.wixsite.com/urs2019) conference, as part of Soojung Claire Hur's microfluidics group in the Mechanical Engineering department at JHU.\n",
      "Adventures in Cluster Analysis: Approaching Shape Clustering\tTalk\tjbs\tThe University of Texas at Dallas\t2022-10-05\tRichardson, TX\t\tVirtual talk given at the interdepartmental Joint Bioinformatics Seminar at the University of Texas at Dallas, as part of Qiwei Li's group in the Mathematical Sciences department."
     ]
    }
   ],
   "source": [
    "!cat talks.tsv"
   ]
  },
  {
   "cell_type": "markdown",
   "metadata": {},
   "source": [
    "## Import TSV\n",
    "\n",
    "Pandas makes this easy with the read_csv function. We are using a TSV, so we specify the separator as a tab, or `\\t`.\n",
    "\n",
    "I found it important to put this data in a tab-separated values format, because there are a lot of commas in this kind of data and comma-separated values can get messed up. However, you can modify the import statement, as pandas also has read_excel(), read_json(), and others."
   ]
  },
  {
   "cell_type": "code",
   "execution_count": 3,
   "metadata": {
    "collapsed": false,
    "deletable": true,
    "editable": true
   },
   "outputs": [
    {
     "data": {
      "text/html": [
       "<div>\n",
       "<style scoped>\n",
       "    .dataframe tbody tr th:only-of-type {\n",
       "        vertical-align: middle;\n",
       "    }\n",
       "\n",
       "    .dataframe tbody tr th {\n",
       "        vertical-align: top;\n",
       "    }\n",
       "\n",
       "    .dataframe thead th {\n",
       "        text-align: right;\n",
       "    }\n",
       "</style>\n",
       "<table border=\"1\" class=\"dataframe\">\n",
       "  <thead>\n",
       "    <tr style=\"text-align: right;\">\n",
       "      <th></th>\n",
       "      <th>title</th>\n",
       "      <th>type</th>\n",
       "      <th>url_slug</th>\n",
       "      <th>venue</th>\n",
       "      <th>date</th>\n",
       "      <th>location</th>\n",
       "      <th>talk_url</th>\n",
       "      <th>description</th>\n",
       "    </tr>\n",
       "  </thead>\n",
       "  <tbody>\n",
       "    <tr>\n",
       "      <th>0</th>\n",
       "      <td>Could olfactory receptors modulate prostate ca...</td>\n",
       "      <td>Poster presentation</td>\n",
       "      <td>dreams</td>\n",
       "      <td>Johns Hopkins University</td>\n",
       "      <td>2018-04-27</td>\n",
       "      <td>Baltimore, MD</td>\n",
       "      <td>NaN</td>\n",
       "      <td>Poster presentation given at the [JHU  Day of ...</td>\n",
       "    </tr>\n",
       "    <tr>\n",
       "      <th>1</th>\n",
       "      <td>Bayesian Clustering of n-gons via a Double Dir...</td>\n",
       "      <td>Talk</td>\n",
       "      <td>torus</td>\n",
       "      <td>Dallas College Brookhaven Campus</td>\n",
       "      <td>2023-02-18</td>\n",
       "      <td>Dallas, TX</td>\n",
       "      <td>NaN</td>\n",
       "      <td>Talk given at the [15th Annual Texas Oklahoma ...</td>\n",
       "    </tr>\n",
       "    <tr>\n",
       "      <th>2</th>\n",
       "      <td>Generating Microfluidic Gradients for the Stud...</td>\n",
       "      <td>Talk</td>\n",
       "      <td>urs</td>\n",
       "      <td>Johns Hopkins University</td>\n",
       "      <td>2019-10-29</td>\n",
       "      <td>Baltimore, MD</td>\n",
       "      <td>NaN</td>\n",
       "      <td>Talk given at the [JHU Undergraduate Research ...</td>\n",
       "    </tr>\n",
       "    <tr>\n",
       "      <th>3</th>\n",
       "      <td>Adventures in Cluster Analysis: Approaching Sh...</td>\n",
       "      <td>Talk</td>\n",
       "      <td>jbs</td>\n",
       "      <td>The University of Texas at Dallas</td>\n",
       "      <td>2022-10-05</td>\n",
       "      <td>Richardson, TX</td>\n",
       "      <td>NaN</td>\n",
       "      <td>Virtual talk given at the interdepartmental Jo...</td>\n",
       "    </tr>\n",
       "  </tbody>\n",
       "</table>\n",
       "</div>"
      ],
      "text/plain": [
       "                                               title                 type  \\\n",
       "0  Could olfactory receptors modulate prostate ca...  Poster presentation   \n",
       "1  Bayesian Clustering of n-gons via a Double Dir...                 Talk   \n",
       "2  Generating Microfluidic Gradients for the Stud...                 Talk   \n",
       "3  Adventures in Cluster Analysis: Approaching Sh...                 Talk   \n",
       "\n",
       "  url_slug                              venue        date        location  \\\n",
       "0   dreams           Johns Hopkins University  2018-04-27   Baltimore, MD   \n",
       "1    torus   Dallas College Brookhaven Campus  2023-02-18      Dallas, TX   \n",
       "2      urs           Johns Hopkins University  2019-10-29   Baltimore, MD   \n",
       "3      jbs  The University of Texas at Dallas  2022-10-05  Richardson, TX   \n",
       "\n",
       "   talk_url                                        description  \n",
       "0       NaN  Poster presentation given at the [JHU  Day of ...  \n",
       "1       NaN  Talk given at the [15th Annual Texas Oklahoma ...  \n",
       "2       NaN  Talk given at the [JHU Undergraduate Research ...  \n",
       "3       NaN  Virtual talk given at the interdepartmental Jo...  "
      ]
     },
     "execution_count": 3,
     "metadata": {},
     "output_type": "execute_result"
    }
   ],
   "source": [
    "talks = pd.read_csv(\"talks.tsv\", sep=\"\\t\", header=0)\n",
    "talks"
   ]
  },
  {
   "cell_type": "markdown",
   "metadata": {},
   "source": [
    "## Escape special characters\n",
    "\n",
    "YAML is very picky about how it takes a valid string, so we are replacing single and double quotes (and ampersands) with their HTML encoded equivilents. This makes them look not so readable in raw format, but they are parsed and rendered nicely."
   ]
  },
  {
   "cell_type": "code",
   "execution_count": 4,
   "metadata": {
    "collapsed": false,
    "deletable": true,
    "editable": true
   },
   "outputs": [],
   "source": [
    "html_escape_table = {\n",
    "    \"&\": \"&amp;\",\n",
    "    '\"': \"&quot;\",\n",
    "    \"'\": \"&apos;\"\n",
    "    }\n",
    "\n",
    "def html_escape(text):\n",
    "    if type(text) is str:\n",
    "        return \"\".join(html_escape_table.get(c,c) for c in text)\n",
    "    else:\n",
    "        return \"False\""
   ]
  },
  {
   "cell_type": "markdown",
   "metadata": {},
   "source": [
    "## Creating the markdown files\n",
    "\n",
    "This is where the heavy lifting is done. This loops through all the rows in the TSV dataframe, then starts to concatentate a big string (```md```) that contains the markdown for each type. It does the YAML metadata first, then does the description for the individual page."
   ]
  },
  {
   "cell_type": "code",
   "execution_count": 5,
   "metadata": {
    "collapsed": false,
    "deletable": true,
    "editable": true
   },
   "outputs": [],
   "source": [
    "loc_dict = {}\n",
    "\n",
    "for row, item in talks.iterrows():\n",
    "    \n",
    "    md_filename = str(item.date) + \"-\" + item.url_slug + \".md\"\n",
    "    html_filename = str(item.date) + \"-\" + item.url_slug \n",
    "    year = item.date[:4]\n",
    "    \n",
    "    md = \"---\\ntitle: \\\"\"   + item.title + '\"\\n'\n",
    "    md += \"collection: talks\" + \"\\n\"\n",
    "    \n",
    "    if len(str(item.type)) > 3:\n",
    "        md += 'type: \"' + item.type + '\"\\n'\n",
    "    else:\n",
    "        md += 'type: \"Talk\"\\n'\n",
    "    \n",
    "    md += \"permalink: /talks/\" + html_filename + \"\\n\"\n",
    "    \n",
    "    if len(str(item.venue)) > 3:\n",
    "        md += 'venue: \"' + item.venue + '\"\\n'\n",
    "        \n",
    "    if len(str(item.location)) > 3:\n",
    "        md += \"date: \" + str(item.date) + \"\\n\"\n",
    "    \n",
    "    if len(str(item.location)) > 3:\n",
    "        md += 'location: \"' + str(item.location) + '\"\\n'\n",
    "           \n",
    "    md += \"---\\n\"\n",
    "    \n",
    "    \n",
    "    if len(str(item.talk_url)) > 3:\n",
    "        md += \"\\n[More information here](\" + item.talk_url + \")\\n\" \n",
    "        \n",
    "    \n",
    "    if len(str(item.description)) > 3:\n",
    "        md += \"\\n\" + html_escape(item.description) + \"\\n\"\n",
    "        \n",
    "        \n",
    "    md_filename = os.path.basename(md_filename)\n",
    "    #print(md)\n",
    "    \n",
    "    with open(\"../_talks/\" + md_filename, 'w') as f:\n",
    "        f.write(md)"
   ]
  },
  {
   "cell_type": "markdown",
   "metadata": {},
   "source": [
    "These files are in the talks directory, one directory below where we're working from."
   ]
  },
  {
   "cell_type": "code",
   "execution_count": 6,
   "metadata": {
    "collapsed": false,
    "deletable": true,
    "editable": true
   },
   "outputs": [
    {
     "name": "stdout",
     "output_type": "stream",
     "text": [
      "2018-04-27-dreams.md 2022-10-05-jbs.md    talkmap.ipynb\n",
      "2019-10-29-urs.md    2023-02-18-torus.md  talkmap.py\n"
     ]
    }
   ],
   "source": [
    "!ls ../_talks"
   ]
  },
  {
   "cell_type": "code",
   "execution_count": 7,
   "metadata": {
    "collapsed": false,
    "deletable": true,
    "editable": true
   },
   "outputs": [
    {
     "name": "stdout",
     "output_type": "stream",
     "text": [
      "---\n",
      "title: \"Could olfactory receptors modulate prostate cancer metastasis?\"\n",
      "collection: talks\n",
      "type: \"Poster presentation\"\n",
      "permalink: /talks/2018-04-27-dreams\n",
      "venue: \"Johns Hopkins University\"\n",
      "date: 2018-04-27\n",
      "location: \"Baltimore, MD\"\n",
      "---\n",
      "\n",
      "Poster presentation given at the [JHU  Day of Undergraduate Research in Engineering, the Arts &amp; Humanities, Medicine and the Sciences (DREAMS) conference](https://hour.jhu.edu/present/dreams/), as part of Steven An&apos;s group in the Environmental Engineering department in the Johns Hopkins Bloomberg School of Public Health.\n"
     ]
    }
   ],
   "source": [
    "!cat ../_talks/2018-04-27-dreams.md"
   ]
  }
 ],
 "metadata": {
  "kernelspec": {
   "display_name": "Python 3",
   "language": "python",
   "name": "python3"
  },
  "language_info": {
   "codemirror_mode": {
    "name": "ipython",
    "version": 3
   },
   "file_extension": ".py",
   "mimetype": "text/x-python",
   "name": "python",
   "nbconvert_exporter": "python",
   "pygments_lexer": "ipython3",
   "version": "3.10.9"
  },
  "vscode": {
   "interpreter": {
    "hash": "b0fa6594d8f4cbf19f97940f81e996739fb7646882a419484c72d19e05852a7e"
   }
  }
 },
 "nbformat": 4,
 "nbformat_minor": 0
}
